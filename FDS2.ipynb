{
 "cells": [
  {
   "cell_type": "code",
   "execution_count": null,
   "id": "c814097f",
   "metadata": {},
   "outputs": [],
   "source": [
    "# Name : T.Anil\n",
    "# Roll No : AM.EN.U4CSE19357\n",
    "# Batch : CSE-D"
   ]
  },
  {
   "cell_type": "markdown",
   "id": "65767941",
   "metadata": {},
   "source": [
    "                                MACHINE LEARNING PROJECT PHASE 2 \n",
    "                              SUPERVISED/Unsupervised LEARNING ALGORITHMS "
   ]
  },
  {
   "cell_type": "markdown",
   "id": "67720cd8",
   "metadata": {},
   "source": [
    "1. Problem Definition\n",
    "Give a concrete description of your machine learning problem in no\n",
    "more than 50 words "
   ]
  },
  {
   "cell_type": "markdown",
   "id": "0ae86aca",
   "metadata": {},
   "source": [
    "A sales forecast is a prediction of future sales revenue. Sales forecasts are usually based on historical data, industry trends, and the status of the current sales pipeline. Businesses use the sales forecast to estimate weekly, monthly, quarterly, and annual sales totals.In this project we are looking at TV sales forecasting."
   ]
  },
  {
   "cell_type": "code",
   "execution_count": null,
   "id": "bc082ee3",
   "metadata": {},
   "outputs": [],
   "source": []
  },
  {
   "cell_type": "code",
   "execution_count": 23,
   "id": "276acaa9",
   "metadata": {},
   "outputs": [],
   "source": [
    "import numpy as np\n",
    "import pandas as pd\n",
    "import matplotlib.pyplot as plt\n",
    "from sklearn.preprocessing import StandardScaler\n",
    "from sklearn.preprocessing import MinMaxScaler\n",
    "from csv import reader\n",
    "from sklearn import preprocessing\n",
    "import seaborn as sns\n",
    "from sklearn.metrics import r2_score"
   ]
  },
  {
   "cell_type": "code",
   "execution_count": 24,
   "id": "f747b5b4",
   "metadata": {},
   "outputs": [
    {
     "data": {
      "text/html": [
       "<div>\n",
       "<style scoped>\n",
       "    .dataframe tbody tr th:only-of-type {\n",
       "        vertical-align: middle;\n",
       "    }\n",
       "\n",
       "    .dataframe tbody tr th {\n",
       "        vertical-align: top;\n",
       "    }\n",
       "\n",
       "    .dataframe thead th {\n",
       "        text-align: right;\n",
       "    }\n",
       "</style>\n",
       "<table border=\"1\" class=\"dataframe\">\n",
       "  <thead>\n",
       "    <tr style=\"text-align: right;\">\n",
       "      <th></th>\n",
       "      <th>Unnamed: 0</th>\n",
       "      <th>Date</th>\n",
       "      <th>Model</th>\n",
       "      <th>Count</th>\n",
       "      <th>Normalized Count</th>\n",
       "    </tr>\n",
       "  </thead>\n",
       "  <tbody>\n",
       "    <tr>\n",
       "      <th>0</th>\n",
       "      <td>0</td>\n",
       "      <td>31-Aug-16</td>\n",
       "      <td>M45</td>\n",
       "      <td>5</td>\n",
       "      <td>-0.291022</td>\n",
       "    </tr>\n",
       "    <tr>\n",
       "      <th>1</th>\n",
       "      <td>1</td>\n",
       "      <td>31-Aug-16</td>\n",
       "      <td>M121</td>\n",
       "      <td>3</td>\n",
       "      <td>-0.297370</td>\n",
       "    </tr>\n",
       "    <tr>\n",
       "      <th>2</th>\n",
       "      <td>2</td>\n",
       "      <td>31-Aug-16</td>\n",
       "      <td>M122</td>\n",
       "      <td>4</td>\n",
       "      <td>-0.294196</td>\n",
       "    </tr>\n",
       "    <tr>\n",
       "      <th>3</th>\n",
       "      <td>3</td>\n",
       "      <td>31-Aug-16</td>\n",
       "      <td>M91</td>\n",
       "      <td>10</td>\n",
       "      <td>-0.275152</td>\n",
       "    </tr>\n",
       "    <tr>\n",
       "      <th>4</th>\n",
       "      <td>4</td>\n",
       "      <td>31-Aug-16</td>\n",
       "      <td>M66</td>\n",
       "      <td>57</td>\n",
       "      <td>-0.125975</td>\n",
       "    </tr>\n",
       "  </tbody>\n",
       "</table>\n",
       "</div>"
      ],
      "text/plain": [
       "   Unnamed: 0       Date Model  Count  Normalized Count\n",
       "0           0  31-Aug-16   M45      5         -0.291022\n",
       "1           1  31-Aug-16  M121      3         -0.297370\n",
       "2           2  31-Aug-16  M122      4         -0.294196\n",
       "3           3  31-Aug-16   M91     10         -0.275152\n",
       "4           4  31-Aug-16   M66     57         -0.125975"
      ]
     },
     "execution_count": 24,
     "metadata": {},
     "output_type": "execute_result"
    }
   ],
   "source": [
    "data=pd.read_csv('dataset.csv')\n",
    "data.head()"
   ]
  },
  {
   "cell_type": "code",
   "execution_count": 25,
   "id": "a7021e22",
   "metadata": {},
   "outputs": [
    {
     "data": {
      "text/plain": [
       "False"
      ]
     },
     "execution_count": 25,
     "metadata": {},
     "output_type": "execute_result"
    }
   ],
   "source": [
    "data.isnull().values.any()"
   ]
  },
  {
   "cell_type": "code",
   "execution_count": 26,
   "id": "41a1e456",
   "metadata": {},
   "outputs": [
    {
     "data": {
      "text/html": [
       "<div>\n",
       "<style scoped>\n",
       "    .dataframe tbody tr th:only-of-type {\n",
       "        vertical-align: middle;\n",
       "    }\n",
       "\n",
       "    .dataframe tbody tr th {\n",
       "        vertical-align: top;\n",
       "    }\n",
       "\n",
       "    .dataframe thead th {\n",
       "        text-align: right;\n",
       "    }\n",
       "</style>\n",
       "<table border=\"1\" class=\"dataframe\">\n",
       "  <thead>\n",
       "    <tr style=\"text-align: right;\">\n",
       "      <th></th>\n",
       "      <th>Unnamed: 0</th>\n",
       "      <th>Count</th>\n",
       "      <th>Normalized Count</th>\n",
       "    </tr>\n",
       "  </thead>\n",
       "  <tbody>\n",
       "    <tr>\n",
       "      <th>count</th>\n",
       "      <td>46116.000000</td>\n",
       "      <td>46116.000000</td>\n",
       "      <td>4.611600e+04</td>\n",
       "    </tr>\n",
       "    <tr>\n",
       "      <th>mean</th>\n",
       "      <td>23057.500000</td>\n",
       "      <td>96.690108</td>\n",
       "      <td>8.241100e-15</td>\n",
       "    </tr>\n",
       "    <tr>\n",
       "      <th>std</th>\n",
       "      <td>13312.686844</td>\n",
       "      <td>315.065946</td>\n",
       "      <td>1.000011e+00</td>\n",
       "    </tr>\n",
       "    <tr>\n",
       "      <th>min</th>\n",
       "      <td>0.000000</td>\n",
       "      <td>1.000000</td>\n",
       "      <td>-3.037178e-01</td>\n",
       "    </tr>\n",
       "    <tr>\n",
       "      <th>25%</th>\n",
       "      <td>11528.750000</td>\n",
       "      <td>3.000000</td>\n",
       "      <td>-2.973699e-01</td>\n",
       "    </tr>\n",
       "    <tr>\n",
       "      <th>50%</th>\n",
       "      <td>23057.500000</td>\n",
       "      <td>14.000000</td>\n",
       "      <td>-2.624562e-01</td>\n",
       "    </tr>\n",
       "    <tr>\n",
       "      <th>75%</th>\n",
       "      <td>34586.250000</td>\n",
       "      <td>67.000000</td>\n",
       "      <td>-9.423560e-02</td>\n",
       "    </tr>\n",
       "    <tr>\n",
       "      <th>max</th>\n",
       "      <td>46115.000000</td>\n",
       "      <td>6678.000000</td>\n",
       "      <td>2.088890e+01</td>\n",
       "    </tr>\n",
       "  </tbody>\n",
       "</table>\n",
       "</div>"
      ],
      "text/plain": [
       "         Unnamed: 0         Count  Normalized Count\n",
       "count  46116.000000  46116.000000      4.611600e+04\n",
       "mean   23057.500000     96.690108      8.241100e-15\n",
       "std    13312.686844    315.065946      1.000011e+00\n",
       "min        0.000000      1.000000     -3.037178e-01\n",
       "25%    11528.750000      3.000000     -2.973699e-01\n",
       "50%    23057.500000     14.000000     -2.624562e-01\n",
       "75%    34586.250000     67.000000     -9.423560e-02\n",
       "max    46115.000000   6678.000000      2.088890e+01"
      ]
     },
     "execution_count": 26,
     "metadata": {},
     "output_type": "execute_result"
    }
   ],
   "source": [
    "data.describe()"
   ]
  },
  {
   "cell_type": "code",
   "execution_count": 27,
   "id": "d195a365",
   "metadata": {},
   "outputs": [],
   "source": [
    "from sklearn.preprocessing import LabelEncoder\n",
    "label=LabelEncoder()\n",
    "categ=['Date','Model']\n",
    "data[categ] = data[categ].apply(label.fit_transform)"
   ]
  },
  {
   "cell_type": "code",
   "execution_count": 28,
   "id": "551efe2a",
   "metadata": {},
   "outputs": [
    {
     "data": {
      "text/html": [
       "<div>\n",
       "<style scoped>\n",
       "    .dataframe tbody tr th:only-of-type {\n",
       "        vertical-align: middle;\n",
       "    }\n",
       "\n",
       "    .dataframe tbody tr th {\n",
       "        vertical-align: top;\n",
       "    }\n",
       "\n",
       "    .dataframe thead th {\n",
       "        text-align: right;\n",
       "    }\n",
       "</style>\n",
       "<table border=\"1\" class=\"dataframe\">\n",
       "  <thead>\n",
       "    <tr style=\"text-align: right;\">\n",
       "      <th></th>\n",
       "      <th>Unnamed: 0</th>\n",
       "      <th>Date</th>\n",
       "      <th>Model</th>\n",
       "      <th>Count</th>\n",
       "      <th>Normalized Count</th>\n",
       "    </tr>\n",
       "  </thead>\n",
       "  <tbody>\n",
       "    <tr>\n",
       "      <th>0</th>\n",
       "      <td>0</td>\n",
       "      <td>954</td>\n",
       "      <td>66</td>\n",
       "      <td>5</td>\n",
       "      <td>-0.291022</td>\n",
       "    </tr>\n",
       "    <tr>\n",
       "      <th>1</th>\n",
       "      <td>1</td>\n",
       "      <td>954</td>\n",
       "      <td>25</td>\n",
       "      <td>3</td>\n",
       "      <td>-0.297370</td>\n",
       "    </tr>\n",
       "    <tr>\n",
       "      <th>2</th>\n",
       "      <td>2</td>\n",
       "      <td>954</td>\n",
       "      <td>26</td>\n",
       "      <td>4</td>\n",
       "      <td>-0.294196</td>\n",
       "    </tr>\n",
       "    <tr>\n",
       "      <th>3</th>\n",
       "      <td>3</td>\n",
       "      <td>954</td>\n",
       "      <td>115</td>\n",
       "      <td>10</td>\n",
       "      <td>-0.275152</td>\n",
       "    </tr>\n",
       "    <tr>\n",
       "      <th>4</th>\n",
       "      <td>4</td>\n",
       "      <td>954</td>\n",
       "      <td>88</td>\n",
       "      <td>57</td>\n",
       "      <td>-0.125975</td>\n",
       "    </tr>\n",
       "  </tbody>\n",
       "</table>\n",
       "</div>"
      ],
      "text/plain": [
       "   Unnamed: 0  Date  Model  Count  Normalized Count\n",
       "0           0   954     66      5         -0.291022\n",
       "1           1   954     25      3         -0.297370\n",
       "2           2   954     26      4         -0.294196\n",
       "3           3   954    115     10         -0.275152\n",
       "4           4   954     88     57         -0.125975"
      ]
     },
     "execution_count": 28,
     "metadata": {},
     "output_type": "execute_result"
    }
   ],
   "source": [
    "data.head()"
   ]
  },
  {
   "cell_type": "code",
   "execution_count": 29,
   "id": "1c947ced",
   "metadata": {},
   "outputs": [],
   "source": [
    "X=data.iloc[:,1:3].values\n",
    "y=data.iloc[:,3].values"
   ]
  },
  {
   "cell_type": "code",
   "execution_count": 30,
   "id": "68d80b8e",
   "metadata": {},
   "outputs": [],
   "source": [
    "from sklearn.model_selection import train_test_split\n",
    "X_train, X_rem, y_train, y_rem = train_test_split(X,y, train_size=0.8)\n",
    "X_valid, X_test, y_valid, y_test = train_test_split(X_rem,y_rem, test_size=0.5)"
   ]
  },
  {
   "cell_type": "code",
   "execution_count": 31,
   "id": "4e4c6005",
   "metadata": {},
   "outputs": [
    {
     "name": "stdout",
     "output_type": "stream",
     "text": [
      "(36892, 2)\n",
      "(36892,)\n",
      "(4612, 2)\n",
      "(4612,)\n",
      "(4612, 2)\n",
      "(4612,)\n"
     ]
    }
   ],
   "source": [
    "print(X_train.shape)\n",
    "print(y_train.shape)\n",
    "print(X_valid.shape)\n",
    "print(y_valid.shape)\n",
    "print(X_test.shape)\n",
    "print(y_test.shape)"
   ]
  },
  {
   "cell_type": "markdown",
   "id": "da55ff2b",
   "metadata": {},
   "source": [
    "                            Decision Tree Regressor"
   ]
  },
  {
   "cell_type": "code",
   "execution_count": 32,
   "id": "1cc67542",
   "metadata": {},
   "outputs": [
    {
     "data": {
      "text/plain": [
       "array([ 33.,  87., 229., ...,  33.,  12.,  11.])"
      ]
     },
     "execution_count": 32,
     "metadata": {},
     "output_type": "execute_result"
    }
   ],
   "source": [
    "from sklearn.tree import DecisionTreeRegressor\n",
    "clf=DecisionTreeRegressor()\n",
    "clf.fit(X_train,y_train)\n",
    "y_pred=clf.predict(X_test)\n",
    "y_pred"
   ]
  },
  {
   "cell_type": "code",
   "execution_count": 33,
   "id": "c6b15c49",
   "metadata": {},
   "outputs": [
    {
     "data": {
      "text/plain": [
       "0.14280982144916687"
      ]
     },
     "execution_count": 33,
     "metadata": {},
     "output_type": "execute_result"
    }
   ],
   "source": [
    "dt_acc=clf.score(X_test,y_test)\n",
    "dt_acc"
   ]
  },
  {
   "cell_type": "code",
   "execution_count": 34,
   "id": "62d85999",
   "metadata": {},
   "outputs": [],
   "source": [
    "acc_list=[]\n",
    "n_es=[i for i in range(1,11)]\n",
    "for i in n_es:\n",
    "    dt=DecisionTreeRegressor(random_state=i)\n",
    "    dt.fit(X_train,y_train)\n",
    "    acc_list.append(dt.score(X_test,y_test))"
   ]
  },
  {
   "cell_type": "code",
   "execution_count": 35,
   "id": "21393232",
   "metadata": {},
   "outputs": [
    {
     "name": "stderr",
     "output_type": "stream",
     "text": [
      "C:\\Users\\DELL\\anaconda3\\lib\\site-packages\\seaborn\\_decorators.py:36: FutureWarning: Pass the following variables as keyword args: x, y. From version 0.12, the only valid positional argument will be `data`, and passing other arguments without an explicit keyword will result in an error or misinterpretation.\n",
      "  warnings.warn(\n"
     ]
    },
    {
     "data": {
      "image/png": "[encoded data removed]",
      "text/plain": [
       "<Figure size 432x288 with 1 Axes>"
      ]
     },
     "metadata": {
      "needs_background": "light"
     },
     "output_type": "display_data"
    }
   ],
   "source": [
    "sns.lineplot(n_es,acc_list)\n",
    "plt.title('parameter comparison')\n",
    "plt.xlabel('random_state')\n",
    "plt.ylabel('Accuracy')\n",
    "plt.show()"
   ]
  },
  {
   "cell_type": "markdown",
   "id": "fc531a68",
   "metadata": {},
   "source": [
    "                                Random Forest Regressor "
   ]
  },
  {
   "cell_type": "code",
   "execution_count": 36,
   "id": "00366dc1",
   "metadata": {},
   "outputs": [
    {
     "data": {
      "text/plain": [
       "array([ 43.4,  71.1,  97.9, ..., 118.8,  63.3,   8.5])"
      ]
     },
     "execution_count": 36,
     "metadata": {},
     "output_type": "execute_result"
    }
   ],
   "source": [
    "from sklearn.ensemble import RandomForestRegressor\n",
    "rfr=RandomForestRegressor(n_estimators=10,random_state=0)\n",
    "rfr.fit(X_train,y_train)\n",
    "y_pred=rfr.predict(X_test)\n",
    "y_pred"
   ]
  },
  {
   "cell_type": "code",
   "execution_count": 37,
   "id": "f2153fd7",
   "metadata": {},
   "outputs": [
    {
     "data": {
      "text/plain": [
       "0.3683800010715329"
      ]
     },
     "execution_count": 37,
     "metadata": {},
     "output_type": "execute_result"
    }
   ],
   "source": [
    "rfr_acc=rfr.score(X_test,y_test)\n",
    "rfr_acc"
   ]
  },
  {
   "cell_type": "code",
   "execution_count": 38,
   "id": "6c8445f2",
   "metadata": {},
   "outputs": [],
   "source": [
    "acc_list=[]\n",
    "n_es=[i for i in range(1,11)]\n",
    "for i in n_es:\n",
    "    rf=RandomForestRegressor(n_estimators=i,random_state=0)\n",
    "    rf.fit(X_train,y_train)\n",
    "    acc_list.append(rf.score(X_test,y_test))"
   ]
  },
  {
   "cell_type": "code",
   "execution_count": 39,
   "id": "7d037ac4",
   "metadata": {},
   "outputs": [
    {
     "name": "stderr",
     "output_type": "stream",
     "text": [
      "C:\\Users\\DELL\\anaconda3\\lib\\site-packages\\seaborn\\_decorators.py:36: FutureWarning: Pass the following variables as keyword args: x, y. From version 0.12, the only valid positional argument will be `data`, and passing other arguments without an explicit keyword will result in an error or misinterpretation.\n",
      "  warnings.warn(\n"
     ]
    },
    {
     "data": {
      "image/png": "[encoded data removed]",
      "text/plain": [
       "<Figure size 432x288 with 1 Axes>"
      ]
     },
     "metadata": {
      "needs_background": "light"
     },
     "output_type": "display_data"
    }
   ],
   "source": [
    "sns.lineplot(n_es,acc_list)\n",
    "plt.title('parameter comparison')\n",
    "plt.xlabel('n_estimators')\n",
    "plt.ylabel('Accuracy')\n",
    "plt.show()"
   ]
  },
  {
   "cell_type": "markdown",
   "id": "9f613550",
   "metadata": {},
   "source": [
    "                           Linear regression"
   ]
  },
  {
   "cell_type": "code",
   "execution_count": 40,
   "id": "d5fde7bd",
   "metadata": {},
   "outputs": [
    {
     "data": {
      "text/plain": [
       "LinearRegression()"
      ]
     },
     "execution_count": 40,
     "metadata": {},
     "output_type": "execute_result"
    }
   ],
   "source": [
    "from sklearn.linear_model import LinearRegression\n",
    "linear=LinearRegression()\n",
    "linear.fit(X_train,y_train)\n"
   ]
  },
  {
   "cell_type": "code",
   "execution_count": 41,
   "id": "e178f38f",
   "metadata": {},
   "outputs": [],
   "source": [
    "expected = y_test\n",
    "predicted = linear.predict(X_test)"
   ]
  },
  {
   "cell_type": "code",
   "execution_count": 47,
   "id": "d75445b0",
   "metadata": {},
   "outputs": [
    {
     "name": "stdout",
     "output_type": "stream",
     "text": [
      "0.006318755294304923\n"
     ]
    }
   ],
   "source": [
    "from sklearn.metrics import r2_score\n",
    "r_square=r2_score(expected,predicted)\n",
    "print(r_square)"
   ]
  },
  {
   "cell_type": "code",
   "execution_count": 48,
   "id": "c4ae6e69",
   "metadata": {},
   "outputs": [
    {
     "name": "stderr",
     "output_type": "stream",
     "text": [
      "C:\\Users\\DELL\\anaconda3\\lib\\site-packages\\seaborn\\_decorators.py:36: FutureWarning: Pass the following variables as keyword args: x, y. From version 0.12, the only valid positional argument will be `data`, and passing other arguments without an explicit keyword will result in an error or misinterpretation.\n",
      "  warnings.warn(\n"
     ]
    },
    {
     "data": {
      "image/png": "[encoded data removed]",
      "text/plain": [
       "<Figure size 432x288 with 1 Axes>"
      ]
     },
     "metadata": {
      "needs_background": "light"
     },
     "output_type": "display_data"
    }
   ],
   "source": [
    "sns.barplot(['Linear Regression','Random Forest','Decision tree'],[r_square,rfr_acc,dt_acc])\n",
    "plt.title('Model comparison')\n",
    "plt.xlabel('Model')\n",
    "plt.ylabel('Accuracy')\n",
    "plt.show()"
   ]
  },
  {
   "cell_type": "code",
   "execution_count": 49,
   "id": "4cf9c9ff",
   "metadata": {},
   "outputs": [
    {
     "name": "stdout",
     "output_type": "stream",
     "text": [
      "Acurracy Score on test data : \n",
      "\t\n",
      "Decision Tree :  0.14280982144916687\n",
      "Random Forest :  0.3683800010715329\n",
      "Linear Regression :  0.006318755294304923\n"
     ]
    }
   ],
   "source": [
    "print(\"Acurracy Score on test data : \\n\\t\")\n",
    "print(\"Decision Tree : \",dt_acc)\n",
    "print(\"Random Forest : \",rfr_acc)\n",
    "print(\"Linear Regression : \",r_square)"
   ]
  },
  {
   "cell_type": "code",
   "execution_count": 50,
   "id": "87a9cada",
   "metadata": {},
   "outputs": [
    {
     "data": {
      "text/plain": [
       "array([  6.3,  78.3,   8. , ..., 122.3,  18.3,  58. ])"
      ]
     },
     "execution_count": 50,
     "metadata": {},
     "output_type": "execute_result"
    }
   ],
   "source": [
    "y_valid=rfr.predict(X_valid)\n",
    "y_valid"
   ]
  },
  {
   "cell_type": "code",
   "execution_count": 56,
   "id": "4a0b9b86",
   "metadata": {},
   "outputs": [
    {
     "data": {
      "text/plain": [
       "array([ 29.25, 160.54,  12.39, ...,  99.27,  15.14,  38.33])"
      ]
     },
     "execution_count": 56,
     "metadata": {},
     "output_type": "execute_result"
    }
   ],
   "source": [
    "from sklearn.ensemble import RandomForestRegressor\n",
    "rfr=RandomForestRegressor(n_estimators=10,random_state=0)\n",
    "rfr.fit(X_valid,y_valid)\n",
    "y_pred=rfr.predict(X_valid)\n",
    "y_pred"
   ]
  },
  {
   "cell_type": "code",
   "execution_count": 57,
   "id": "5d728678",
   "metadata": {},
   "outputs": [
    {
     "data": {
      "text/plain": [
       "0.9691762121328934"
      ]
     },
     "execution_count": 57,
     "metadata": {},
     "output_type": "execute_result"
    }
   ],
   "source": [
    "rfr_acc=rfr.score(X_valid,y_valid)\n",
    "rfr_acc"
   ]
  },
  {
   "cell_type": "code",
   "execution_count": 58,
   "id": "c918c7cc",
   "metadata": {},
   "outputs": [
    {
     "data": {
      "text/plain": [
       "array([  6.3,  78.3,   8. , ..., 122.3,  18.3,  58. ])"
      ]
     },
     "execution_count": 58,
     "metadata": {},
     "output_type": "execute_result"
    }
   ],
   "source": [
    "from sklearn.tree import DecisionTreeRegressor\n",
    "clf=DecisionTreeRegressor()\n",
    "clf.fit(X_valid,y_valid)\n",
    "y_pred=clf.predict(X_valid)\n",
    "y_pred"
   ]
  },
  {
   "cell_type": "code",
   "execution_count": 59,
   "id": "73bca59d",
   "metadata": {},
   "outputs": [
    {
     "data": {
      "text/plain": [
       "1.0"
      ]
     },
     "execution_count": 59,
     "metadata": {},
     "output_type": "execute_result"
    }
   ],
   "source": [
    "dt_acc=clf.score(X_valid,y_valid)\n",
    "dt_acc"
   ]
  },
  {
   "cell_type": "code",
   "execution_count": 60,
   "id": "5a20b4de",
   "metadata": {},
   "outputs": [
    {
     "data": {
      "text/plain": [
       "LinearRegression()"
      ]
     },
     "execution_count": 60,
     "metadata": {},
     "output_type": "execute_result"
    }
   ],
   "source": [
    "from sklearn.linear_model import LinearRegression\n",
    "linear=LinearRegression()\n",
    "linear.fit(X_train,y_train)"
   ]
  },
  {
   "cell_type": "code",
   "execution_count": 61,
   "id": "c874f772",
   "metadata": {},
   "outputs": [],
   "source": [
    "expected = y_valid\n",
    "predicted = linear.predict(X_valid)"
   ]
  },
  {
   "cell_type": "code",
   "execution_count": 62,
   "id": "277312a9",
   "metadata": {},
   "outputs": [
    {
     "name": "stdout",
     "output_type": "stream",
     "text": [
      "0.007038336250586363\n"
     ]
    }
   ],
   "source": [
    "from sklearn.metrics import r2_score\n",
    "r_square=r2_score(expected,predicted)\n",
    "print(r_square)"
   ]
  },
  {
   "cell_type": "code",
   "execution_count": 63,
   "id": "c45ec244",
   "metadata": {},
   "outputs": [
    {
     "name": "stdout",
     "output_type": "stream",
     "text": [
      "Acurracy Score on test data : \n",
      "\t\n",
      "Decision Tree :  1.0\n",
      "Random Forest :  0.9691762121328934\n",
      "Linear Regression :  0.007038336250586363\n"
     ]
    }
   ],
   "source": [
    "print(\"Acurracy Score on test data : \\n\\t\")\n",
    "print(\"Decision Tree : \",dt_acc)\n",
    "print(\"Random Forest : \",rfr_acc)\n",
    "print(\"Linear Regression : \",r_square)"
   ]
  },
  {
   "cell_type": "code",
   "execution_count": null,
   "id": "6daaf791",
   "metadata": {},
   "outputs": [],
   "source": []
  }
 ],
 "metadata": {
  "kernelspec": {
   "display_name": "Python 3",
   "language": "python",
   "name": "python3"
  },
  "language_info": {
   "codemirror_mode": {
    "name": "ipython",
    "version": 3
   },
   "file_extension": ".py",
   "mimetype": "text/x-python",
   "name": "python",
   "nbconvert_exporter": "python",
   "pygments_lexer": "ipython3",
   "version": "3.8.8"
  }
 },
 "nbformat": 4,
 "nbformat_minor": 5
}
